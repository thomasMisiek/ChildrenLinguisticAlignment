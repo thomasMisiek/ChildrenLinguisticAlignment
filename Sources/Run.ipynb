{
 "cells": [
  {
   "cell_type": "markdown",
   "metadata": {},
   "source": [
    "## Configurating the directory"
   ]
  },
  {
   "cell_type": "code",
   "execution_count": null,
   "metadata": {},
   "outputs": [],
   "source": [
    "%load_ext autoreload\n",
    "%autoreload 2\n",
    "import os\n",
    "cwd = os.getcwd()\n",
    "print(cwd)"
   ]
  },
  {
   "cell_type": "markdown",
   "metadata": {},
   "source": [
    "## Imports"
   ]
  },
  {
   "cell_type": "code",
   "execution_count": null,
   "metadata": {},
   "outputs": [],
   "source": [
    "from generate_database import process_similarities"
   ]
  },
  {
   "cell_type": "markdown",
   "metadata": {},
   "source": [
    "# Create Database"
   ]
  },
  {
   "cell_type": "code",
   "execution_count": null,
   "metadata": {},
   "outputs": [],
   "source": [
    "dic = {0:\"English\", 1:\"French\", 2:\"Spanish\", 3:\"German\", 4:\"Chinese\", 5:\"Japanese\"}\n",
    "language = dic[1]"
   ]
  },
  {
   "cell_type": "code",
   "execution_count": null,
   "metadata": {
    "scrolled": true
   },
   "outputs": [],
   "source": [
    "# Example of a complete generation. It should take 2 or three days to complete on a personal computer\n",
    "# The english dataset of CHILDES is much bigger than the other languages datasets\n",
    "# process_similarities(\"English_full\", \"English\", age_min = 10, age_max = 80, test = False)\n",
    "\n",
    "# Example of a generation with japanese. \n",
    "# The program should ask for admin rights as it is required to compute special characters, same with chinese.\n",
    "# This example should take 2 hours on a personal computer, 4 for a complete generation (10 month to 80)\n",
    "# process_similarities(\"my_generation\", dic[5], age_min = 22, age_max = 40, test = False)\n",
    "\n",
    "# test run, you should try it first to ensure the program run fine on your computer, it should take around 5 minutes\n",
    "# age_min and age_max are included in the results\n",
    "process_similarities(\"French\", language, age_min = 20, age_max = 25, test = True)"
   ]
  }
 ],
 "metadata": {
  "kernelspec": {
   "display_name": "Python 3",
   "language": "python",
   "name": "python3"
  },
  "language_info": {
   "codemirror_mode": {
    "name": "ipython",
    "version": 3
   },
   "file_extension": ".py",
   "mimetype": "text/x-python",
   "name": "python",
   "nbconvert_exporter": "python",
   "pygments_lexer": "ipython3",
   "version": "3.7.4"
  }
 },
 "nbformat": 4,
 "nbformat_minor": 4
}
